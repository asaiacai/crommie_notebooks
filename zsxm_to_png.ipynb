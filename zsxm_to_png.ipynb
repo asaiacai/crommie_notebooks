{
 "cells": [
  {
   "cell_type": "code",
   "execution_count": 29,
   "metadata": {},
   "outputs": [],
   "source": [
    "from __future__ import division, unicode_literals, print_function  # for compatibility with Python 2 and 3\n",
    "\n",
    "n_range = [156,168]#range(156, 213)\n",
    "N = len(n_range)\n",
    "    \n",
    "SXM_PATH = [\"electromigration_14/Image_{0:03}.sxm\".format(i) for i in n_range] #Replace value as appropriate\n",
    "base_filename = \"electromigration_14_{0:03}-{1:03}_tiled\".format(n_range[0],n_range[-1])\n",
    "#SXM_PATH = \"electromigration_8/Image_001.sxm\"\n",
    "OUTPUT = \"./molecule_density_data/\"\n",
    "\n",
    "import matplotlib as mpl \n",
    "import matplotlib.pyplot as plt\n",
    "\n",
    "%matplotlib inline\n",
    "\n",
    "# Optionally, tweak styles.\n",
    "mpl.rc('figure',  figsize=(10, 5))\n",
    "mpl.rc('image', cmap='gray')\n",
    "import numpy as np\n",
    "import pandas as pd\n",
    "from pandas import DataFrame, Series  # for convenience\n",
    "import os\n",
    "from ntpath import basename\n",
    "\n",
    "import pims\n",
    "import pySPM as spm \n",
    "import trackpy as tp\n",
    "import glob\n",
    "\n",
    "#@pims.pipeline\n",
    "#def gray(image):\n",
    "#    return image[:, :, 1]  # Take just the green channel\n",
    "#frames = gray(pims.open('../track_molecules/*.bmp'))\n",
    "\n",
    "class SXMReader(pims.FramesSequence):\n",
    "    def __init__(self, filename_pattern):\n",
    "        #self.filenames = glob.glob(filename_pattern)\n",
    "        self.filenames = filename_pattern\n",
    "        self.scans = [spm.SXM(filename) for filename in self.filenames]\n",
    "        self.z_data = np.array([s.get_channel(\"Z\").correct_lines().pixels for s in self.scans]) #grab z-channel\n",
    "        min_z = np.min(self.z_data)\n",
    "        max_z = np.max(self.z_data)\n",
    "        self.z_data -= min_z\n",
    "        self.z_data /= max_z-min_z\n",
    "        self._len = len(self.z_data)\n",
    "        self._dtype = self.z_data.dtype\n",
    "        self._frame_shape = self.z_data[0].shape\n",
    "        self.scan_size = self.scans[0].size\n",
    "        self.meters_per_pixel = self.scan_size['real']['x']/self.scan_size['pixels']['x']\n",
    "       \n",
    "    def get_frame(self, i):\n",
    "        # Access the data you need and get it into a numpy array.\n",
    "        # Then return a Frame like so:\n",
    "        return pims.Frame(self.z_data[i], frame_no=i)\n",
    "\n",
    "    def __len__(self):\n",
    "        return self._len\n",
    "\n",
    "    @property\n",
    "    def frame_shape(self):\n",
    "        return self._frame_shape\n",
    "\n",
    "    @property\n",
    "    def pixel_type(self):\n",
    "        return self._dtype\n",
    "    \n",
    "frames = SXMReader(SXM_PATH)\n",
    "frames=frames[::1]"
   ]
  },
  {
   "cell_type": "code",
   "execution_count": 2,
   "metadata": {},
   "outputs": [],
   "source": [
    "## Output image to ./output/electromigration_n/Image_{}.png\n",
    "#for i, f in enumerate(frames.filenames):\n",
    "#    plt.imsave(OUTPUT + basename(f)[:-4] + '.png', frames.get_frame(i))"
   ]
  },
  {
   "cell_type": "code",
   "execution_count": 30,
   "metadata": {},
   "outputs": [
    {
     "name": "stdout",
     "output_type": "stream",
     "text": [
      "0\n",
      "1\n",
      "2\n",
      "3\n",
      "4\n",
      "5\n",
      "6\n",
      "7\n",
      "8\n",
      "9\n",
      "10\n",
      "11\n",
      "12\n",
      "13\n",
      "14\n",
      "15\n",
      "16\n",
      "17\n",
      "18\n",
      "19\n",
      "20\n",
      "21\n",
      "22\n",
      "23\n",
      "24\n",
      "25\n",
      "26\n",
      "27\n",
      "28\n",
      "29\n",
      "30\n",
      "31\n",
      "32\n",
      "33\n",
      "34\n",
      "35\n",
      "36\n",
      "37\n",
      "38\n",
      "39\n",
      "40\n",
      "41\n",
      "42\n",
      "43\n",
      "44\n",
      "45\n",
      "46\n",
      "47\n",
      "48\n",
      "49\n",
      "50\n",
      "51\n",
      "52\n",
      "53\n",
      "54\n",
      "55\n",
      "56\n",
      "57\n",
      "58\n",
      "59\n",
      "60\n",
      "61\n",
      "62\n",
      "63\n",
      "64\n",
      "65\n",
      "66\n",
      "67\n",
      "68\n",
      "69\n"
     ]
    },
    {
     "data": {
      "image/png": "[encoded data removed]",
      "text/plain": [
       "<Figure size 1440x720 with 70 Axes>"
      ]
     },
     "metadata": {
      "needs_background": "light"
     },
     "output_type": "display_data"
    }
   ],
   "source": [
    "## Output matrix of images to ./output/electromigration_8_{0:03}-{1:03}_tiled.png\n",
    "x, y = 7, 10\n",
    "#V = np.arange(0,10*N,10)\n",
    "#V = np.arange(60,-70,-10)\n",
    "#V=[0,3,3,3,10,10,10,10,20,20,20,20,20,20,40,40,40,40,40,40,40]\n",
    "#V=[i for i in range(60, -65, -5)]\n",
    "#T=[\"0s\", \"100us\", \"1ms\", \"10ms\", \"100ms\", \"1s\", \"10s\", \"100s\"]\n",
    "# V=np.cumsum(V)\n",
    "#for i, f in enumerate(frames.filenames):\n",
    "mpl.rc('figure',  figsize=(20, 10))\n",
    "fig, ax = plt.subplots(x, y)\n",
    "plt.subplots_adjust(wspace=-0.8, hspace=0.05) #for 25 images (wspace=-0.8, hspace=0.05) #wspace=-0.69, hspace=0.01 #wspace=-0.1, hspace=0.01\n",
    "for i in range(x):\n",
    "    for j in range(y):\n",
    "        #k = (i * y + j) % (x + y)\n",
    "        k = i * y + j\n",
    "        print(k)\n",
    "        if k < N:\n",
    "            ax[i,j].imshow(frames[k])\n",
    "            #ax[i,j].text(120,110, \"{}V\".format(V[k]), ha=\"right\", weight='bold', color=\"yellow\", fontsize =14)\n",
    "            #ax[i,j].text(120,110, T[k], ha=\"right\", weight='bold', color=\"yellow\", fontsize =14)\n",
    "        ax[i,j].invert_yaxis()\n",
    "        ax[i,j].axis('off')\n",
    "        ax[i,j].set_aspect('equal')\n",
    "        \n",
    "plt.savefig(os.path.join(OUTPUT,base_filename), bbox_inches='tight')"
   ]
  },
  {
   "cell_type": "code",
   "execution_count": 70,
   "metadata": {},
   "outputs": [
    {
     "data": {
      "text/plain": [
       "Sliced SXMReader. Original repr:\n",
       "    <Frames>\n",
       "    Length: 10 frames\n",
       "    Frame Shape: 256 x 256\n",
       "    Pixel Datatype: float64"
      ]
     },
     "execution_count": 70,
     "metadata": {},
     "output_type": "execute_result"
    }
   ],
   "source": []
  },
  {
   "cell_type": "code",
   "execution_count": 9,
   "metadata": {},
   "outputs": [
    {
     "data": {
      "text/plain": [
       "array([1., 1., 1., 1., 1., 1., 1., 1., 1., 1., 1., 1., 1., 1., 1.])"
      ]
     },
     "execution_count": 9,
     "metadata": {},
     "output_type": "execute_result"
    }
   ],
   "source": [
    "np.ones(N)"
   ]
  },
  {
   "cell_type": "code",
   "execution_count": null,
   "metadata": {},
   "outputs": [],
   "source": [
    "im.save('out.gif', save_all=True, append_images=frames)"
   ]
  }
 ],
 "metadata": {
  "kernelspec": {
   "display_name": "dsgo",
   "language": "python",
   "name": "venv"
  },
  "language_info": {
   "codemirror_mode": {
    "name": "ipython",
    "version": 3
   },
   "file_extension": ".py",
   "mimetype": "text/x-python",
   "name": "python",
   "nbconvert_exporter": "python",
   "pygments_lexer": "ipython3",
   "version": "3.7.3"
  }
 },
 "nbformat": 4,
 "nbformat_minor": 2
}
