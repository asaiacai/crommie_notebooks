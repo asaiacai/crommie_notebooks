{
 "cells": [
  {
   "cell_type": "code",
   "execution_count": 1,
   "metadata": {},
   "outputs": [],
   "source": [
    "import numpy as np\n",
    "from keras.models import Model\n",
    "from keras.layers import Dense,BatchNormalization,Conv1D\n",
    "from keras.layers import Input,GlobalMaxPooling1D, GlobalAveragePooling1D, concatenate\n",
    "from keras.optimizers import Adam\n",
    "import keras.backend as K\n",
    "import keras\n",
    "\n",
    "from keras.callbacks import EarlyStopping,ReduceLROnPlateau,ModelCheckpoint,CSVLogger\n",
    "import datetime\n",
    "from keras.callbacks import History\n",
    "import matplotlib.pyplot as plt\n",
    "import pickle\n",
    "from keras.models import load_model\n",
    "\n",
    "from keras.applications.xception import preprocess_input\n",
    "\n",
    "import tensorflow as tf"
   ]
  },
  {
   "cell_type": "code",
   "execution_count": 2,
   "metadata": {
    "scrolled": false
   },
   "outputs": [],
   "source": [
    "model = load_model('models/30_model_andrew.h5')"
   ]
  },
  {
   "cell_type": "code",
   "execution_count": 3,
   "metadata": {},
   "outputs": [
    {
     "name": "stdout",
     "output_type": "stream",
     "text": [
      "Model: \"model_1\"\n",
      "__________________________________________________________________________________________________\n",
      "Layer (type)                    Output Shape         Param #     Connected to                     \n",
      "==================================================================================================\n",
      "input_1 (InputLayer)            [(None, 29, 1)]      0                                            \n",
      "__________________________________________________________________________________________________\n",
      "conv1d_1 (Conv1D)               (None, 29, 64)       64          input_1[0][0]                    \n",
      "__________________________________________________________________________________________________\n",
      "batch_normalization_1 (BatchNor (None, 29, 64)       256         conv1d_1[0][0]                   \n",
      "__________________________________________________________________________________________________\n",
      "conv1d_2 (Conv1D)               (None, 29, 64)       12288       batch_normalization_1[0][0]      \n",
      "__________________________________________________________________________________________________\n",
      "batch_normalization_2 (BatchNor (None, 29, 64)       256         conv1d_2[0][0]                   \n",
      "__________________________________________________________________________________________________\n",
      "re_lu_1 (ReLU)                  (None, 29, 64)       0           batch_normalization_2[0][0]      \n",
      "__________________________________________________________________________________________________\n",
      "conv1d_3 (Conv1D)               (None, 29, 64)       12288       re_lu_1[0][0]                    \n",
      "__________________________________________________________________________________________________\n",
      "batch_normalization_3 (BatchNor (None, 29, 64)       256         conv1d_3[0][0]                   \n",
      "__________________________________________________________________________________________________\n",
      "add_1 (Add)                     (None, 29, 64)       0           batch_normalization_1[0][0]      \n",
      "                                                                 batch_normalization_3[0][0]      \n",
      "__________________________________________________________________________________________________\n",
      "re_lu_2 (ReLU)                  (None, 29, 64)       0           add_1[0][0]                      \n",
      "__________________________________________________________________________________________________\n",
      "conv1d_4 (Conv1D)               (None, 29, 128)      8192        re_lu_2[0][0]                    \n",
      "__________________________________________________________________________________________________\n",
      "conv1d_5 (Conv1D)               (None, 29, 128)      49152       conv1d_4[0][0]                   \n",
      "__________________________________________________________________________________________________\n",
      "batch_normalization_4 (BatchNor (None, 29, 128)      512         conv1d_5[0][0]                   \n",
      "__________________________________________________________________________________________________\n",
      "re_lu_3 (ReLU)                  (None, 29, 128)      0           batch_normalization_4[0][0]      \n",
      "__________________________________________________________________________________________________\n",
      "conv1d_6 (Conv1D)               (None, 29, 128)      49152       re_lu_3[0][0]                    \n",
      "__________________________________________________________________________________________________\n",
      "batch_normalization_5 (BatchNor (None, 29, 128)      512         conv1d_6[0][0]                   \n",
      "__________________________________________________________________________________________________\n",
      "add_2 (Add)                     (None, 29, 128)      0           conv1d_4[0][0]                   \n",
      "                                                                 batch_normalization_5[0][0]      \n",
      "__________________________________________________________________________________________________\n",
      "re_lu_4 (ReLU)                  (None, 29, 128)      0           add_2[0][0]                      \n",
      "__________________________________________________________________________________________________\n",
      "conv1d_7 (Conv1D)               (None, 29, 256)      32768       re_lu_4[0][0]                    \n",
      "__________________________________________________________________________________________________\n",
      "conv1d_8 (Conv1D)               (None, 29, 256)      196608      conv1d_7[0][0]                   \n",
      "__________________________________________________________________________________________________\n",
      "batch_normalization_6 (BatchNor (None, 29, 256)      1024        conv1d_8[0][0]                   \n",
      "__________________________________________________________________________________________________\n",
      "re_lu_5 (ReLU)                  (None, 29, 256)      0           batch_normalization_6[0][0]      \n",
      "__________________________________________________________________________________________________\n",
      "conv1d_9 (Conv1D)               (None, 29, 256)      196608      re_lu_5[0][0]                    \n",
      "__________________________________________________________________________________________________\n",
      "batch_normalization_7 (BatchNor (None, 29, 256)      1024        conv1d_9[0][0]                   \n",
      "__________________________________________________________________________________________________\n",
      "add_3 (Add)                     (None, 29, 256)      0           conv1d_7[0][0]                   \n",
      "                                                                 batch_normalization_7[0][0]      \n",
      "__________________________________________________________________________________________________\n",
      "re_lu_6 (ReLU)                  (None, 29, 256)      0           add_3[0][0]                      \n",
      "__________________________________________________________________________________________________\n",
      "conv1d_10 (Conv1D)              (None, 29, 512)      131072      re_lu_6[0][0]                    \n",
      "__________________________________________________________________________________________________\n",
      "conv1d_11 (Conv1D)              (None, 29, 512)      786432      conv1d_10[0][0]                  \n",
      "__________________________________________________________________________________________________\n",
      "batch_normalization_8 (BatchNor (None, 29, 512)      2048        conv1d_11[0][0]                  \n",
      "__________________________________________________________________________________________________\n",
      "re_lu_7 (ReLU)                  (None, 29, 512)      0           batch_normalization_8[0][0]      \n",
      "__________________________________________________________________________________________________\n",
      "conv1d_12 (Conv1D)              (None, 29, 512)      786432      re_lu_7[0][0]                    \n",
      "__________________________________________________________________________________________________\n",
      "batch_normalization_9 (BatchNor (None, 29, 512)      2048        conv1d_12[0][0]                  \n",
      "__________________________________________________________________________________________________\n",
      "add_4 (Add)                     (None, 29, 512)      0           conv1d_10[0][0]                  \n",
      "                                                                 batch_normalization_9[0][0]      \n",
      "__________________________________________________________________________________________________\n",
      "re_lu_8 (ReLU)                  (None, 29, 512)      0           add_4[0][0]                      \n",
      "__________________________________________________________________________________________________\n",
      "global_average_pooling1d_1 (Glo (None, 512)          0           re_lu_8[0][0]                    \n",
      "__________________________________________________________________________________________________\n",
      "dense_1 (Dense)                 (None, 3)            1539        global_average_pooling1d_1[0][0] \n",
      "==================================================================================================\n",
      "Total params: 2,270,531\n",
      "Trainable params: 2,266,563\n",
      "Non-trainable params: 3,968\n",
      "__________________________________________________________________________________________________\n"
     ]
    }
   ],
   "source": [
    "model.summary()"
   ]
  },
  {
   "cell_type": "code",
   "execution_count": 5,
   "metadata": {},
   "outputs": [
    {
     "data": {
      "text/plain": [
       "array([[[ 1.73253166e-01],\n",
       "        [-5.54241069e-01],\n",
       "        [ 6.16733678e-01],\n",
       "        [-2.48683591e-01],\n",
       "        [ 2.54480469e-01],\n",
       "        [-4.29389777e-02],\n",
       "        [-1.79832340e-01],\n",
       "        [ 2.32593132e-01],\n",
       "        [-3.17356066e-01],\n",
       "        [ 1.69165453e+00],\n",
       "        [ 3.34841404e-01],\n",
       "        [-4.38379150e-01],\n",
       "        [ 1.80020163e-01],\n",
       "        [-2.30509713e-01],\n",
       "        [-1.01281059e-01],\n",
       "        [ 1.01069758e-01],\n",
       "        [ 4.66774624e-01],\n",
       "        [-6.05200674e-01],\n",
       "        [ 3.82956436e-01],\n",
       "        [-4.76397990e-04],\n",
       "        [-3.23954899e-01],\n",
       "        [ 3.65581506e-01],\n",
       "        [-2.69713956e-01],\n",
       "        [ 2.29245740e-01],\n",
       "        [-1.34364383e-01],\n",
       "        [ 4.83719351e+00],\n",
       "        [-3.18104785e-02],\n",
       "        [-1.07849880e+00],\n",
       "        [ 2.50337958e-02]]])"
      ]
     },
     "execution_count": 5,
     "metadata": {},
     "output_type": "execute_result"
    }
   ],
   "source": [
    "track = np.loadtxt(\"em27.txt\")\n",
    "center_norm(track)"
   ]
  },
  {
   "cell_type": "code",
   "execution_count": 6,
   "metadata": {},
   "outputs": [
    {
     "name": "stdout",
     "output_type": "stream",
     "text": [
      "[[3.3935593e-04 1.8232089e-04 9.9947840e-01]]\n",
      "Predicted: ctrw\n"
     ]
    }
   ],
   "source": [
    "# Get the layer of the last conv layer\n",
    "final_conv_layer  = model.get_layer('conv1d_12')\n",
    "# Get the weights matrix of the last layer\n",
    "class_weights = model.layers[-1].get_weights()[0]\n",
    "# Prepare track\n",
    "#     track =np.loadtxt(\"em18tracks.txt\")[i]\n",
    "\n",
    "t = center_norm(track)\n",
    "\n",
    "# # Print what the top predicted class is\n",
    "index_to_type = {0: \"fbm\", 1: \"brownian\", 2: \"ctrw\"}\n",
    "preds = model.predict(t)\n",
    "c = np.argmax(preds)\n",
    "print(preds)\n",
    "print(\"Predicted:\", index_to_type[np.argmax(preds)])"
   ]
  },
  {
   "cell_type": "code",
   "execution_count": 12,
   "metadata": {},
   "outputs": [],
   "source": [
    "get_output = K.function([model.layers[0].input], [final_conv_layer.output, model.layers[-1].output])\n",
    "[conv_outputs, predictions] = get_output([t])\n",
    "conv_outputs = conv_outputs[0, ...]"
   ]
  },
  {
   "cell_type": "code",
   "execution_count": 13,
   "metadata": {},
   "outputs": [
    {
     "data": {
      "text/plain": [
       "<matplotlib.image.AxesImage at 0x7f78643f94e0>"
      ]
     },
     "execution_count": 13,
     "metadata": {},
     "output_type": "execute_result"
    },
    {
     "data": {
      "image/png": "[encoded data removed]",
      "text/plain": [
       "<Figure size 432x288 with 1 Axes>"
      ]
     },
     "metadata": {
      "needs_background": "light"
     },
     "output_type": "display_data"
    }
   ],
   "source": [
    "cam = class_weights[np.newaxis, :, c] @ conv_outputs.T\n",
    "plt.imshow(cam)"
   ]
  },
  {
   "cell_type": "code",
   "execution_count": null,
   "metadata": {},
   "outputs": [],
   "source": []
  }
 ],
 "metadata": {
  "kernelspec": {
   "display_name": "Python 3",
   "language": "python",
   "name": "python3"
  },
  "language_info": {
   "codemirror_mode": {
    "name": "ipython",
    "version": 3
   },
   "file_extension": ".py",
   "mimetype": "text/x-python",
   "name": "python",
   "nbconvert_exporter": "python",
   "pygments_lexer": "ipython3",
   "version": "3.7.3"
  }
 },
 "nbformat": 4,
 "nbformat_minor": 4
}
