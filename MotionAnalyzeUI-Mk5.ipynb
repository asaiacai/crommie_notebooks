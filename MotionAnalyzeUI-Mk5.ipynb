{
 "cells": [
  {
   "cell_type": "markdown",
   "metadata": {},
   "source": [
    "Simply run all cells"
   ]
  },
  {
   "cell_type": "code",
   "execution_count": 1,
   "metadata": {},
   "outputs": [
    {
     "data": {
      "text/html": [
       "<style>\n",
       ".box_bg {\n",
       "    background-color: #003262;\n",
       "}\n",
       "</style>\n"
      ],
      "text/plain": [
       "<IPython.core.display.HTML object>"
      ]
     },
     "metadata": {},
     "output_type": "display_data"
    }
   ],
   "source": [
    "%%html\n",
    "<style>\n",
    ".box_bg {\n",
    "    background-color: #003262;\n",
    "}\n",
    "</style>"
   ]
  },
  {
   "cell_type": "code",
   "execution_count": 2,
   "metadata": {},
   "outputs": [
    {
     "data": {
      "application/vnd.jupyter.widget-view+json": {
       "model_id": "3ea94f848de34452a3cc6a0f1d5d2692",
       "version_major": 2,
       "version_minor": 0
      },
      "text/plain": [
       "AnalyzeUI(children=(VBox(children=(HTML(value=\"\\n                <center><p style='font-size:15px'><font color…"
      ]
     },
     "metadata": {},
     "output_type": "display_data"
    }
   ],
   "source": [
    "import os\n",
    "import yaml\n",
    "import shutil\n",
    "import numpy as np\n",
    "import matplotlib as mpl\n",
    "import matplotlib.pyplot as plt\n",
    "from matplotlib.animation import FuncAnimation, PillowWriter\n",
    "import pandas as pd\n",
    "import seaborn as sns\n",
    "import ipywidgets as ipy\n",
    "import IPython\n",
    "from IPython.display import display, clear_output, HTML\n",
    "import pySPM as spm\n",
    "import trackpy as tp\n",
    "import deeptrack as dt\n",
    "from tensorflow import keras\n",
    "from tensorflow.keras import backend as K\n",
    "from scipy.stats import linregress\n",
    "from scipy.optimize import curve_fit\n",
    "import warnings\n",
    "warnings.filterwarnings('ignore')\n",
    "mpl.rc('animation', html='html5')\n",
    "%matplotlib inline\n",
    "\n",
    "from motionanalyzerui import ImageData, AnalyzeUI\n",
    "\n",
    "AnalyzeUI()"
   ]
  },
  {
   "cell_type": "code",
   "execution_count": null,
   "metadata": {},
   "outputs": [],
   "source": []
  }
 ],
 "metadata": {
  "kernelspec": {
   "display_name": "orientation",
   "language": "python",
   "name": "venv"
  },
  "language_info": {
   "codemirror_mode": {
    "name": "ipython",
    "version": 3
   },
   "file_extension": ".py",
   "mimetype": "text/x-python",
   "name": "python",
   "nbconvert_exporter": "python",
   "pygments_lexer": "ipython3",
   "version": "3.7.3"
  }
 },
 "nbformat": 4,
 "nbformat_minor": 2
}
